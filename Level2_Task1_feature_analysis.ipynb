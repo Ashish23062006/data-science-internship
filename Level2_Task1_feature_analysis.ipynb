{
 "cells": [
  {
   "cell_type": "code",
   "execution_count": 1,
   "id": "94021ebf-7daf-4c9b-b98f-2d87ecf0145b",
   "metadata": {},
   "outputs": [],
   "source": [
    "#Internship project- Data Science(Level2)\n",
    "#Intern: Ashish Kumar Regar\n",
    "#Organization: Cognifyz Technologies\n",
    "\n",
    "\n",
    "#Task 1: Data exploration and preprocessing"
   ]
  },
  {
   "cell_type": "code",
   "execution_count": 3,
   "id": "14ae88f0-bd79-4177-8d76-a7f7e8e963d5",
   "metadata": {},
   "outputs": [],
   "source": [
    "#import libraries\n",
    "import pandas as pd\n",
    "import matplotlib.pyplot as plt\n",
    "import seaborn as sns"
   ]
  },
  {
   "cell_type": "code",
   "execution_count": 5,
   "id": "b0d149c2-daee-4420-9d02-6e2ae7eadea7",
   "metadata": {},
   "outputs": [],
   "source": [
    "#load data\n",
    "df = pd.read_csv(\"Dataset .csv\")"
   ]
  },
  {
   "cell_type": "code",
   "execution_count": 7,
   "id": "630780f3-3bdc-4b31-8d48-40f9aff5b813",
   "metadata": {},
   "outputs": [],
   "source": [
    "#clean missing data\n",
    "df = df.dropna(subset=['Latitude', 'Longitude', 'Aggregate rating', 'Votes', 'Price range'])"
   ]
  },
  {
   "cell_type": "code",
   "execution_count": 9,
   "id": "2e04b743-c9e3-41d5-978a-187777b3e9a7",
   "metadata": {},
   "outputs": [
    {
     "data": {
      "image/png": "[encoded data removed]",
      "text/plain": [
       "<Figure size 600x400 with 2 Axes>"
      ]
     },
     "metadata": {},
     "output_type": "display_data"
    }
   ],
   "source": [
    "#feature Correlation\n",
    "numeric_cols = ['Aggregate rating', 'Votes', 'Price range']\n",
    "corr = df[numeric_cols].corr()\n",
    "\n",
    "plt.figure(figsize=(6,4))\n",
    "sns.heatmap(corr, annot=True, cmap='coolwarm')\n",
    "plt.title(\"Correlation between Feature\")\n",
    "plt.show()"
   ]
  },
  {
   "cell_type": "code",
   "execution_count": 11,
   "id": "c32d05d2-773a-4588-8436-d69fb02ce99f",
   "metadata": {},
   "outputs": [
    {
     "data": {
      "text/html": [
       "<div>\n",
       "<style scoped>\n",
       "    .dataframe tbody tr th:only-of-type {\n",
       "        vertical-align: middle;\n",
       "    }\n",
       "\n",
       "    .dataframe tbody tr th {\n",
       "        vertical-align: top;\n",
       "    }\n",
       "\n",
       "    .dataframe thead th {\n",
       "        text-align: right;\n",
       "    }\n",
       "</style>\n",
       "<table border=\"1\" class=\"dataframe\">\n",
       "  <thead>\n",
       "    <tr style=\"text-align: right;\">\n",
       "      <th></th>\n",
       "      <th>Aggregate rating</th>\n",
       "      <th>Votes</th>\n",
       "      <th>Rating x Votes</th>\n",
       "    </tr>\n",
       "  </thead>\n",
       "  <tbody>\n",
       "    <tr>\n",
       "      <th>0</th>\n",
       "      <td>4.8</td>\n",
       "      <td>314</td>\n",
       "      <td>1507.2</td>\n",
       "    </tr>\n",
       "    <tr>\n",
       "      <th>1</th>\n",
       "      <td>4.5</td>\n",
       "      <td>591</td>\n",
       "      <td>2659.5</td>\n",
       "    </tr>\n",
       "    <tr>\n",
       "      <th>2</th>\n",
       "      <td>4.4</td>\n",
       "      <td>270</td>\n",
       "      <td>1188.0</td>\n",
       "    </tr>\n",
       "    <tr>\n",
       "      <th>3</th>\n",
       "      <td>4.9</td>\n",
       "      <td>365</td>\n",
       "      <td>1788.5</td>\n",
       "    </tr>\n",
       "    <tr>\n",
       "      <th>4</th>\n",
       "      <td>4.8</td>\n",
       "      <td>229</td>\n",
       "      <td>1099.2</td>\n",
       "    </tr>\n",
       "  </tbody>\n",
       "</table>\n",
       "</div>"
      ],
      "text/plain": [
       "   Aggregate rating  Votes  Rating x Votes\n",
       "0               4.8    314          1507.2\n",
       "1               4.5    591          2659.5\n",
       "2               4.4    270          1188.0\n",
       "3               4.9    365          1788.5\n",
       "4               4.8    229          1099.2"
      ]
     },
     "execution_count": 11,
     "metadata": {},
     "output_type": "execute_result"
    }
   ],
   "source": [
    "# new feature example (interaction feature)\n",
    "df['Rating x Votes'] = df['Aggregate rating'] * df['Votes']\n",
    "df[['Aggregate rating', 'Votes', 'Rating x Votes']].head()\n",
    "\n"
   ]
  },
  {
   "cell_type": "code",
   "execution_count": null,
   "id": "7887ac2a-6e4b-4e3b-93af-964b09a634eb",
   "metadata": {},
   "outputs": [],
   "source": []
  }
 ],
 "metadata": {
  "kernelspec": {
   "display_name": "Python [conda env:base] *",
   "language": "python",
   "name": "conda-base-py"
  },
  "language_info": {
   "codemirror_mode": {
    "name": "ipython",
    "version": 3
   },
   "file_extension": ".py",
   "mimetype": "text/x-python",
   "name": "python",
   "nbconvert_exporter": "python",
   "pygments_lexer": "ipython3",
   "version": "3.12.3"
  }
 },
 "nbformat": 4,
 "nbformat_minor": 5
}
